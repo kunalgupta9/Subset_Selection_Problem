{
  "nbformat": 4,
  "nbformat_minor": 0,
  "metadata": {
    "colab": {
      "name": "Subset Selection Problem.ipynb",
      "provenance": [],
      "include_colab_link": true
    },
    "kernelspec": {
      "display_name": "Python 3",
      "language": "python",
      "name": "python3"
    },
    "language_info": {
      "codemirror_mode": {
        "name": "ipython",
        "version": 3
      },
      "file_extension": ".py",
      "mimetype": "text/x-python",
      "name": "python",
      "nbconvert_exporter": "python",
      "pygments_lexer": "ipython3",
      "version": "3.8.5"
    }
  },
  "cells": [
    {
      "cell_type": "markdown",
      "metadata": {
        "id": "view-in-github",
        "colab_type": "text"
      },
      "source": [
        "<a href=\"https://colab.research.google.com/github/khushidass/mini-project-3/blob/main/Subset_Selection_Problem/Subset_Selection_Problem.ipynb\" target=\"_parent\"><img src=\"https://colab.research.google.com/assets/colab-badge.svg\" alt=\"Open In Colab\"/></a>"
      ]
    },
    {
      "cell_type": "markdown",
      "metadata": {
        "id": "7nQSRI4Dim1Y"
      },
      "source": [
        "  ---\n",
        "# **Subset Selection Problem**\n",
        "---\n",
        "####**1. Problem Statement:**\n",
        "Find all the subsets from a set of numbers whose sum is zero.\n",
        "\n",
        "####**Constraint: Subset size must be 5**\n",
        "Set={-12, -3, -6, 7, 2, -2, 6, 3, 9, -7, -5, -8, 1, 11, -9, -4}\n",
        "\n",
        "---"
      ]
    },
    {
      "cell_type": "markdown",
      "metadata": {
        "id": "A30y-VtNim1h"
      },
      "source": [
        "### **1.1 Library inclusion**"
      ]
    },
    {
      "cell_type": "code",
      "metadata": {
        "id": "cF_mSA9Xim1j"
      },
      "source": [
        "import random as r"
      ],
      "execution_count": 2,
      "outputs": []
    },
    {
      "cell_type": "markdown",
      "metadata": {
        "id": "UjvBYy0Lim1m"
      },
      "source": [
        "### **1.2 Parameter Setting**"
      ]
    },
    {
      "cell_type": "code",
      "metadata": {
        "id": "NHB2KMhZim1o"
      },
      "source": [
        "Set         = set([-12, -3, -6, 7, 2, -2, 6, 3, 9, -7, -5, -8, 1, 11, -9, -4])\n",
        "SetSize     = 5\n",
        "ResultList  = set()    # Store Result List i.e. list of sets whose sum is zero\n",
        "Iterations  = 1000    # Number of Inerations"
      ],
      "execution_count": 10,
      "outputs": []
    },
    {
      "cell_type": "markdown",
      "metadata": {
        "id": "BTLd3s--im1c"
      },
      "source": [
        "### **1.3 Start Program**\n",
        "\n",
        "\n"
      ]
    },
    {
      "cell_type": "code",
      "metadata": {
        "id": "veBU-f21im1x",
        "colab": {
          "base_uri": "https://localhost:8080/"
        },
        "outputId": "9b749c88-dfd6-4184-aa8c-517b74ee6ff8"
      },
      "source": [
        "import random\n",
        "\n",
        "# Initial set and parameters\n",
        "original_set = set([-12, -3, -6, 7, 2, -2, 6, 3, 9, -7, -5, -8, 1, 11, -9, -4])\n",
        "SetSize = 5\n",
        "Iterations = 1000\n",
        "\n",
        "ResultList = set()  # Using a set to avoid duplicate subsets\n",
        "\n",
        "# Convert to list for random sampling\n",
        "original_list = list(original_set)\n",
        "\n",
        "for _ in range(Iterations):\n",
        "    subset = tuple(sorted(random.sample(original_list, SetSize)))  # Sorted tuple for uniqueness\n",
        "    if sum(subset) == 0:\n",
        "        ResultList.add(subset)\n",
        "\n",
        "# Print the result\n",
        "print(f\"Total zero-sum subsets of size {SetSize} found in {Iterations} iterations: {len(ResultList)}\")\n",
        "for subset in ResultList:\n",
        "    print(subset)\n"
      ],
      "execution_count": 12,
      "outputs": [
        {
          "output_type": "stream",
          "name": "stdout",
          "text": [
            "Total zero-sum subsets of size 5 found in 1000 iterations: 27\n",
            "(-12, -3, 2, 6, 7)\n",
            "(-12, -4, 1, 6, 9)\n",
            "(-9, -8, 2, 6, 9)\n",
            "(-8, -6, -4, 7, 11)\n",
            "(-7, -4, -3, 3, 11)\n",
            "(-5, -4, 1, 2, 6)\n",
            "(-7, -3, 1, 3, 6)\n",
            "(-8, -6, 1, 6, 7)\n",
            "(-7, -4, 1, 3, 7)\n",
            "(-8, -6, -2, 7, 9)\n",
            "(-9, -5, 2, 3, 9)\n",
            "(-7, -6, -2, 6, 9)\n",
            "(-9, -5, -4, 7, 11)\n",
            "(-12, -4, 2, 3, 11)\n",
            "(-8, -3, 1, 3, 7)\n",
            "(-12, -7, 2, 6, 11)\n",
            "(-8, -4, 1, 2, 9)\n",
            "(-6, -4, -3, 2, 11)\n",
            "(-12, -8, 3, 6, 11)\n",
            "(-12, -7, 3, 7, 9)\n",
            "(-6, -5, -4, 6, 9)\n",
            "(-9, -5, 1, 6, 7)\n",
            "(-5, -4, -2, 2, 9)\n",
            "(-9, -4, -2, 6, 9)\n",
            "(-12, -9, 3, 7, 11)\n",
            "(-12, -4, -2, 7, 11)\n",
            "(-8, -6, 2, 3, 9)\n"
          ]
        }
      ]
    },
    {
      "cell_type": "markdown",
      "metadata": {
        "id": "nRWYsJNVim1z"
      },
      "source": [
        "### **1.4 Print the sets and total count**\n"
      ]
    },
    {
      "cell_type": "code",
      "metadata": {
        "colab": {
          "base_uri": "https://localhost:8080/"
        },
        "id": "41abL1k-im10",
        "scrolled": true,
        "outputId": "4671152e-2303-4049-8c8b-76dcfa28f5ec"
      },
      "source": [
        "# Print all the sets whose sum is zero\n",
        "for r in ResultList:\n",
        "\tprint (r)\n",
        "\n",
        "# Print total sets\n",
        "print (\"\\nTotal Sets: \", len(ResultList), \"\\n\")"
      ],
      "execution_count": 13,
      "outputs": [
        {
          "output_type": "stream",
          "name": "stdout",
          "text": [
            "(-12, -3, 2, 6, 7)\n",
            "(-12, -4, 1, 6, 9)\n",
            "(-9, -8, 2, 6, 9)\n",
            "(-8, -6, -4, 7, 11)\n",
            "(-7, -4, -3, 3, 11)\n",
            "(-5, -4, 1, 2, 6)\n",
            "(-7, -3, 1, 3, 6)\n",
            "(-8, -6, 1, 6, 7)\n",
            "(-7, -4, 1, 3, 7)\n",
            "(-8, -6, -2, 7, 9)\n",
            "(-9, -5, 2, 3, 9)\n",
            "(-7, -6, -2, 6, 9)\n",
            "(-9, -5, -4, 7, 11)\n",
            "(-12, -4, 2, 3, 11)\n",
            "(-8, -3, 1, 3, 7)\n",
            "(-12, -7, 2, 6, 11)\n",
            "(-8, -4, 1, 2, 9)\n",
            "(-6, -4, -3, 2, 11)\n",
            "(-12, -8, 3, 6, 11)\n",
            "(-12, -7, 3, 7, 9)\n",
            "(-6, -5, -4, 6, 9)\n",
            "(-9, -5, 1, 6, 7)\n",
            "(-5, -4, -2, 2, 9)\n",
            "(-9, -4, -2, 6, 9)\n",
            "(-12, -9, 3, 7, 11)\n",
            "(-12, -4, -2, 7, 11)\n",
            "(-8, -6, 2, 3, 9)\n",
            "\n",
            "Total Sets:  27 \n",
            "\n"
          ]
        }
      ]
    },
    {
      "cell_type": "markdown",
      "metadata": {
        "id": "E3BNV7YLim12"
      },
      "source": [
        "---\n",
        "### **1.5 Complete Program**\n",
        "---"
      ]
    },
    {
      "cell_type": "code",
      "metadata": {
        "colab": {
          "base_uri": "https://localhost:8080/"
        },
        "id": "c6KthRB9im14",
        "outputId": "cd837ed0-4cf2-461e-cdd8-39d3612b5fdd"
      },
      "source": [
        "#-------------------------------------------------------------\n",
        "# Step 1: Library inclusion\n",
        "#-------------------------------------------------------------\n",
        "import random as r\n",
        "\n",
        "\n",
        "#-------------------------------------------------------------\n",
        "# Step 2: Parameter Setting\n",
        "#-------------------------------------------------------------\n",
        "Set         = set([-12, -3, -6, 7, 2, -2, 6, 3, 9, -7, -5, -8, 1, 11, -9, -4])\n",
        "SetSize     = 5\n",
        "ResultList  = set()    # Store Result List i.e. list of sets whose sum is zero\n",
        "Iterations  = 1000   # Number of Inerations\n",
        "\n",
        "\n",
        "#-------------------------------------------------------------\n",
        "# Step3: Start Program\n",
        "#-------------------------------------------------------------\n",
        "\n",
        "# Convert the set to a list for random sampling\n",
        "Set_list = list(Set)\n",
        "\n",
        "# Loop till number of Iterations\n",
        "for i in range(Iterations):\n",
        "    # Select number of elements from Set\n",
        "    Chromosome = r.sample(Set_list, SetSize)\n",
        "\n",
        "    # Sum the number of elements in the Chromosome\n",
        "    if sum(Chromosome) == 0:\n",
        "        ResultList.add(tuple(sorted(Chromosome))) # Sort the chromosome to ensure uniqueness\n",
        "\n",
        "\n",
        "# Print all the sets whose sum is zero\n",
        "for r in ResultList:\n",
        "        print (r)\n",
        "\n",
        "# Print total sets\n",
        "print (\"\\nTotal Sets: \", len(ResultList))"
      ],
      "execution_count": 16,
      "outputs": [
        {
          "output_type": "stream",
          "name": "stdout",
          "text": [
            "(-12, -6, 2, 7, 9)\n",
            "(-12, -4, 1, 6, 9)\n",
            "(-7, -4, -2, 6, 7)\n",
            "(-5, -4, 1, 2, 6)\n",
            "(-9, -2, 1, 3, 7)\n",
            "(-7, -4, 2, 3, 6)\n",
            "(-9, -5, 1, 2, 11)\n",
            "(-6, -4, -3, 6, 7)\n",
            "(-7, -6, -2, 6, 9)\n",
            "(-7, -2, 1, 2, 6)\n",
            "(-7, -3, -2, 3, 9)\n",
            "(-8, -3, 1, 3, 7)\n",
            "(-5, -3, -2, 3, 7)\n",
            "(-8, -2, 1, 3, 6)\n",
            "(-12, -2, 2, 3, 9)\n",
            "(-8, -5, -2, 6, 9)\n",
            "(-9, -7, -2, 7, 11)\n",
            "(-8, -4, 1, 2, 9)\n",
            "(-9, -6, 1, 3, 11)\n",
            "(-8, -3, 2, 3, 6)\n",
            "(-5, -4, -2, 2, 9)\n",
            "(-9, -4, -2, 6, 9)\n",
            "(-7, -6, -5, 7, 11)\n",
            "\n",
            "Total Sets:  23\n"
          ]
        }
      ]
    },
    {
      "cell_type": "markdown",
      "metadata": {
        "id": "stxrIcZtk4LT"
      },
      "source": [
        "---\n",
        "### **1.6 Complete Program with sorting**\n",
        "---"
      ]
    },
    {
      "cell_type": "code",
      "metadata": {
        "colab": {
          "base_uri": "https://localhost:8080/"
        },
        "outputId": "e8a760bf-1439-4cac-cd7e-f69fcc6bf2ad",
        "id": "zzblepy0k4LU"
      },
      "source": [
        "import random as r\n",
        "\n",
        "#-------------------------------------------------------------\n",
        "# Step 2: Parameter Setting\n",
        "#-------------------------------------------------------------\n",
        "Set         = set([-12, -3, -6, 7, 2, -2, 6, 3, 9, -7, -5, -8, 1, 11, -9, -4])\n",
        "SetSize     = 5\n",
        "ResultList  = set()    # Store Result List i.e. list of sets whose sum is zero\n",
        "Iterations  = 1000     # Number of Iterations\n",
        "\n",
        "# Convert set to list for sampling\n",
        "SetList = list(Set)\n",
        "\n",
        "#-------------------------------------------------------------\n",
        "# Step 3: Start Program\n",
        "#-------------------------------------------------------------\n",
        "for i in range(Iterations):\n",
        "    # Select number of elements from Set\n",
        "    Chromosome = r.sample(SetList, SetSize)\n",
        "    Chromosome.sort()  # Sort for consistent tuple ordering\n",
        "\n",
        "    # Sum the number of elements in the Chromosome\n",
        "    if sum(Chromosome) == 0:\n",
        "        ResultList.add(tuple(Chromosome))  # Store as tuple for set uniqueness\n",
        "\n",
        "# Print all the sets whose sum is zero\n",
        "print(\"Zero-sum subsets of size\", SetSize, \":\\n\")\n",
        "for res in ResultList:\n",
        "    print(res)\n",
        "\n",
        "# Print total sets\n",
        "print(\"\\nTotal Sets Found:\", len(ResultList))\n"
      ],
      "execution_count": 23,
      "outputs": [
        {
          "output_type": "stream",
          "name": "stdout",
          "text": [
            "Zero-sum subsets of size 5 :\n",
            "\n",
            "(-12, -6, -2, 9, 11)\n",
            "(-12, -6, 1, 6, 11)\n",
            "(-8, -7, -3, 7, 11)\n",
            "(-5, -4, 1, 2, 6)\n",
            "(-5, -4, -3, 1, 11)\n",
            "(-12, -5, 1, 7, 9)\n",
            "(-12, -2, 1, 6, 7)\n",
            "(-8, -6, 1, 6, 7)\n",
            "(-9, -7, -4, 9, 11)\n",
            "(-7, -6, -2, 6, 9)\n",
            "(-6, -4, 1, 3, 6)\n",
            "(-9, -3, 1, 2, 9)\n",
            "(-9, -5, -4, 7, 11)\n",
            "(-8, -7, 1, 3, 11)\n",
            "(-6, -5, -3, 3, 11)\n",
            "(-9, -6, -3, 7, 11)\n",
            "(-8, -6, -3, 6, 11)\n",
            "(-6, -5, 2, 3, 6)\n",
            "(-9, -7, -2, 7, 11)\n",
            "(-6, -3, 1, 2, 6)\n",
            "(-12, -2, 1, 2, 11)\n",
            "(-9, -5, -2, 7, 9)\n",
            "(-12, -7, 3, 7, 9)\n",
            "(-7, -5, 1, 2, 9)\n",
            "(-9, -5, 1, 6, 7)\n",
            "(-9, -6, 1, 3, 11)\n",
            "(-5, -4, -3, 3, 9)\n",
            "(-9, -4, -2, 6, 9)\n",
            "(-9, -6, 2, 6, 7)\n",
            "(-6, -4, -2, 1, 11)\n",
            "(-8, -7, 2, 6, 7)\n",
            "(-8, -6, 2, 3, 9)\n",
            "\n",
            "Total Sets Found: 32\n"
          ]
        }
      ]
    },
    {
      "cell_type": "markdown",
      "metadata": {
        "id": "Kaevs6ROim18"
      },
      "source": [
        "---\n",
        "####**2. Problem Statement:**\n",
        "Find all the subsets from a set of numbers whose sum is zero.\n",
        "\n",
        "####**Constraint: Subset size must be 3 to 6 only**\n",
        "Set={-12, -3, -6, 7, 2, -2, 6, 3, 9, -7, -5, -8, 1, 11, -9, -4}\n",
        "\n",
        "---"
      ]
    },
    {
      "cell_type": "code",
      "metadata": {
        "colab": {
          "base_uri": "https://localhost:8080/"
        },
        "id": "XmPJbrOXim19",
        "outputId": "f4d6f49b-7e9a-4a1f-f67c-dde1215b1cfe"
      },
      "source": [
        "import random as r\n",
        "\n",
        "#-------------------------------------------------------------\n",
        "# Step 2: Parameter Setting\n",
        "#-------------------------------------------------------------\n",
        "Set         = set([-12, -3, -6, 7, 2, -2, 6, 3, 9, -7, -5, -8, 1, 11, -9, -4])\n",
        "Setlist     = list(Set)  # Convert to list for random sampling\n",
        "SetLB       = 3\n",
        "SetUB       = 6\n",
        "ResultList  = set()       # Store Result List i.e. list of sets whose sum is zero\n",
        "Iterations  = 1000        # Number of Iterations\n",
        "\n",
        "#-------------------------------------------------------------\n",
        "# Step 3: Start Program\n",
        "#-------------------------------------------------------------\n",
        "\n",
        "# Loop till number of Iterations\n",
        "for i in range(Iterations):\n",
        "    # Select set size randomly\n",
        "    SetSize = r.randint(SetLB, SetUB)\n",
        "\n",
        "    # Select number of elements from Set\n",
        "    Chromosome = r.sample(Setlist, SetSize)\n",
        "    Chromosome.sort()\n",
        "\n",
        "    # Sum the number of elements in the Chromosome\n",
        "    if sum(Chromosome) == 0:\n",
        "        ResultList.add(tuple(Chromosome))  # Store as tuple for uniqueness in set\n",
        "\n",
        "# Print all the sets whose sum is zero\n",
        "print(f\"Zero-sum subsets of size {SetLB} to {SetUB}:\\n\")\n",
        "for res in ResultList:\n",
        "    print(res)\n",
        "\n",
        "# Print total sets\n",
        "print(\"\\nTotal Sets Found:\", len(ResultList))\n"
      ],
      "execution_count": 27,
      "outputs": [
        {
          "output_type": "stream",
          "name": "stdout",
          "text": [
            "Zero-sum subsets of size 3 to 6:\n",
            "\n",
            "(-8, -6, -2, 1, 6, 9)\n",
            "(-9, -3, 3, 9)\n",
            "(-8, -6, 3, 11)\n",
            "(-5, 2, 3)\n",
            "(-7, -6, -4, 2, 6, 9)\n",
            "(-12, 1, 11)\n",
            "(-7, -6, 6, 7)\n",
            "(-7, -5, -4, 3, 6, 7)\n",
            "(-12, -7, 2, 6, 11)\n",
            "(-6, -5, -3, 3, 11)\n",
            "(-8, 2, 6)\n",
            "(-9, -7, -2, 7, 11)\n",
            "(-9, -2, 11)\n",
            "(-6, -5, -3, 1, 2, 11)\n",
            "(-6, -3, 9)\n",
            "(-8, -4, 1, 2, 9)\n",
            "(-4, -2, 6)\n",
            "(-12, -3, -2, 1, 7, 9)\n",
            "(-6, -5, 11)\n",
            "(-12, -7, -2, 3, 7, 11)\n",
            "(-9, 3, 6)\n",
            "(-7, -3, 3, 7)\n",
            "(-8, -3, 11)\n",
            "(-9, -3, -2, 3, 11)\n",
            "(-12, -8, 9, 11)\n",
            "\n",
            "Total Sets Found: 25\n"
          ]
        }
      ]
    }
  ]
}